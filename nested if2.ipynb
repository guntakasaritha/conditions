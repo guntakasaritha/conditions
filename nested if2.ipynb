{
 "cells": [
  {
   "cell_type": "code",
   "execution_count": null,
   "id": "6f30c7fc-dbbe-404b-9192-f54a47be5452",
   "metadata": {},
   "outputs": [],
   "source": [
    "pin= int(input(\"enter your 4-digit pin number:\"))\n",
    "spin= 1234\n",
    "balance=5000\n",
    "if pin==spin:\n",
    "    print(\"Access granted!!\")\n",
    "    withdraw=int(input(\"enter amount:\"))\n",
    "    if withdraw>balance :\n",
    "        print(\"Insufficent funds!!!!\")\n",
    "    else:\n",
    "        print(\"amount withdraw:\",withdraw)\n",
    "        print(\"remaining balance:\",balance-withdraw)\n",
    "        print(\"thankyou for banking with ICICI....\")\n",
    "else:\n",
    "       print(\"access denied...wrong pin\")\n",
    "            "
   ]
  },
  {
   "cell_type": "code",
   "execution_count": null,
   "id": "e69fac60-b6d7-43f9-9b7a-5b3e689fd9d1",
   "metadata": {},
   "outputs": [],
   "source": []
  }
 ],
 "metadata": {
  "kernelspec": {
   "display_name": "Python 3 (ipykernel)",
   "language": "python",
   "name": "python3"
  },
  "language_info": {
   "codemirror_mode": {
    "name": "ipython",
    "version": 3
   },
   "file_extension": ".py",
   "mimetype": "text/x-python",
   "name": "python",
   "nbconvert_exporter": "python",
   "pygments_lexer": "ipython3",
   "version": "3.12.7"
  }
 },
 "nbformat": 4,
 "nbformat_minor": 5
}
