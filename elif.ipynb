{
 "cells": [
  {
   "cell_type": "code",
   "execution_count": null,
   "id": "a55f6d9b-4955-44ec-a54b-16d518386494",
   "metadata": {},
   "outputs": [],
   "source": [
    "a= int(input(\"enter a:\"))\n",
    "b= int(input(\"enter b:\"))\n",
    "if a>b:\n",
    "    print(\"largest:\", a)\n",
    "elif a<b:\n",
    "    print(\"largest:\", b)\n",
    "else:\n",
    "    print(\"Both numbers are equal\")"
   ]
  }
 ],
 "metadata": {
  "kernelspec": {
   "display_name": "Python 3 (ipykernel)",
   "language": "python",
   "name": "python3"
  },
  "language_info": {
   "codemirror_mode": {
    "name": "ipython",
    "version": 3
   },
   "file_extension": ".py",
   "mimetype": "text/x-python",
   "name": "python",
   "nbconvert_exporter": "python",
   "pygments_lexer": "ipython3",
   "version": "3.12.7"
  }
 },
 "nbformat": 4,
 "nbformat_minor": 5
}
